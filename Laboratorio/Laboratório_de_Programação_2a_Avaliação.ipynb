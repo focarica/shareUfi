{
  "nbformat": 4,
  "nbformat_minor": 0,
  "metadata": {
    "colab": {
      "provenance": [],
      "toc_visible": true,
      "authorship_tag": "ABX9TyPzmm9r4mWysr9e+qLF7h56",
      "include_colab_link": true
    },
    "kernelspec": {
      "name": "python3",
      "display_name": "Python 3"
    },
    "language_info": {
      "name": "python"
    }
  },
  "cells": [
    {
      "cell_type": "markdown",
      "metadata": {
        "id": "view-in-github",
        "colab_type": "text"
      },
      "source": [
        "<a href=\"https://colab.research.google.com/github/focarica/shareUfpi/blob/main/Laborat%C3%B3rio_de_Programa%C3%A7%C3%A3o_2a_Avalia%C3%A7%C3%A3o.ipynb\" target=\"_parent\"><img src=\"https://colab.research.google.com/assets/colab-badge.svg\" alt=\"Open In Colab\"/></a>"
      ]
    },
    {
      "cell_type": "markdown",
      "source": [
        "# **Questão 1**"
      ],
      "metadata": {
        "id": "Q0J3dfajvWUt"
      }
    },
    {
      "cell_type": "code",
      "execution_count": null,
      "metadata": {
        "id": "A9WFCzlZvRdg"
      },
      "outputs": [],
      "source": []
    },
    {
      "cell_type": "markdown",
      "source": [
        "# **Questão 2**"
      ],
      "metadata": {
        "id": "ui2jqBf3vp0P"
      }
    },
    {
      "cell_type": "code",
      "source": [],
      "metadata": {
        "id": "O1ChBlsJvsIs"
      },
      "execution_count": null,
      "outputs": []
    },
    {
      "cell_type": "markdown",
      "source": [
        "# **Questão 3**\n"
      ],
      "metadata": {
        "id": "FroAA6Oyv5Ut"
      }
    },
    {
      "cell_type": "code",
      "source": [],
      "metadata": {
        "id": "eJudLAJUv-rM"
      },
      "execution_count": null,
      "outputs": []
    },
    {
      "cell_type": "markdown",
      "source": [
        "# **Questão 4**"
      ],
      "metadata": {
        "id": "a2FcNLOKwEsj"
      }
    },
    {
      "cell_type": "code",
      "source": [],
      "metadata": {
        "id": "CcnFCKN8wGwj"
      },
      "execution_count": null,
      "outputs": []
    },
    {
      "cell_type": "markdown",
      "source": [
        "# **Questão 5**"
      ],
      "metadata": {
        "id": "B9_a5DzLwHai"
      }
    },
    {
      "cell_type": "code",
      "source": [],
      "metadata": {
        "id": "CPblX9dXwJA6"
      },
      "execution_count": null,
      "outputs": []
    },
    {
      "cell_type": "markdown",
      "source": [
        "# **Questão 6**"
      ],
      "metadata": {
        "id": "KItl6DgiwL-y"
      }
    },
    {
      "cell_type": "code",
      "source": [],
      "metadata": {
        "id": "lftK5pNtwN-6"
      },
      "execution_count": null,
      "outputs": []
    },
    {
      "cell_type": "markdown",
      "source": [
        "# **Questão 7**"
      ],
      "metadata": {
        "id": "tf9QHUbMwOnr"
      }
    },
    {
      "cell_type": "code",
      "source": [],
      "metadata": {
        "id": "sMmtyXpdwP4b"
      },
      "execution_count": null,
      "outputs": []
    },
    {
      "cell_type": "markdown",
      "source": [
        "# **Questão 8**"
      ],
      "metadata": {
        "id": "GOa3xwqJwRFT"
      }
    },
    {
      "cell_type": "code",
      "source": [],
      "metadata": {
        "id": "t16v5TdNwSuy"
      },
      "execution_count": null,
      "outputs": []
    },
    {
      "cell_type": "markdown",
      "source": [
        "# **Questão 9**"
      ],
      "metadata": {
        "id": "PY9YBPBYwUKC"
      }
    },
    {
      "cell_type": "code",
      "source": [],
      "metadata": {
        "id": "iks30nPLwVdr"
      },
      "execution_count": null,
      "outputs": []
    },
    {
      "cell_type": "markdown",
      "source": [
        "# **Questão 10**"
      ],
      "metadata": {
        "id": "oXoVMStqwWYK"
      }
    },
    {
      "cell_type": "code",
      "source": [],
      "metadata": {
        "id": "5WSyDV1kwX8z"
      },
      "execution_count": null,
      "outputs": []
    }
  ]
}
